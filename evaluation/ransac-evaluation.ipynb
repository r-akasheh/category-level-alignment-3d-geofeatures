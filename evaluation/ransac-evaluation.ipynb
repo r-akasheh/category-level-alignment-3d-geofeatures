{
 "cells": [
  {
   "cell_type": "code",
   "execution_count": 9,
   "id": "initial_id",
   "metadata": {
    "collapsed": true,
    "ExecuteTime": {
     "end_time": "2024-06-02T10:16:16.683470800Z",
     "start_time": "2024-06-02T10:16:15.699272600Z"
    }
   },
   "outputs": [],
   "source": [
    "import pickle\n",
    "import pandas as pd\n",
    "from mesh_transform import base_path"
   ]
  },
  {
   "cell_type": "code",
   "outputs": [],
   "source": [
    "with open(base_path + \"category-level-alignment-3d-geofeatures/evaluation/\" + \"ransac_mappings.pickle\", 'rb') as f:\n",
    "    mappings = pickle.load(f)"
   ],
   "metadata": {
    "collapsed": false,
    "ExecuteTime": {
     "end_time": "2024-06-05T13:16:51.343139500Z",
     "start_time": "2024-06-05T13:16:50.780381700Z"
    }
   },
   "id": "6a24c7d593afd85a",
   "execution_count": 71
  },
  {
   "cell_type": "code",
   "outputs": [],
   "source": [
    "data = []\n",
    "\n",
    "# Iterate through each level of the dictionary\n",
    "for scene_nr in mappings.keys():\n",
    "    for image_nr in mappings[scene_nr].keys():\n",
    "        for item_type in  mappings[scene_nr][image_nr].keys():\n",
    "            # Extract the relevant properties\n",
    "            pred_tensor = mappings[scene_nr][image_nr][item_type]['pred_trans']\n",
    "            cos_theta = mappings[scene_nr][image_nr][item_type]['cos_theta']\n",
    "            obj_name = mappings[scene_nr][image_nr][item_type]['obj_name']\n",
    "            euclid_error = mappings[scene_nr][image_nr][item_type]['euclid_error']\n",
    "            # Append a tuple with the collected data\n",
    "            data.append((scene_nr, image_nr, item_type, obj_name, pred_tensor, cos_theta, euclid_error))\n",
    "\n",
    "# Create a DataFrame from the list\n",
    "df = pd.DataFrame(data, columns=['scene_nr', 'image_nr', 'type', 'obj_name', 'pred_tensor', 'cos_theta', 'euclid_error'])\n",
    "df[\"cos_theta_unpacked\"] = df.apply(lambda row: row[\"cos_theta\"].item(),axis=1)"
   ],
   "metadata": {
    "collapsed": false,
    "ExecuteTime": {
     "end_time": "2024-06-05T13:17:24.114537200Z",
     "start_time": "2024-06-05T13:17:24.073927200Z"
    }
   },
   "id": "3854c2e9f724ecfd",
   "execution_count": 73
  },
  {
   "cell_type": "code",
   "outputs": [
    {
     "data": {
      "text/plain": "     scene_nr image_nr     type                    obj_name  \\\n7     scene02   000007  cutlery              cutlery-fork_1   \n10    scene02   000010  cutlery              cutlery-fork_1   \n14    scene02   000014  cutlery              cutlery-fork_1   \n18    scene02   000018  cutlery              cutlery-fork_1   \n24    scene02   000024  cutlery              cutlery-fork_1   \n...       ...      ...      ...                         ...   \n4004  scene08   000326   teapot  teapot-white_blue_cone_top   \n4008  scene08   000328   teapot  teapot-white_blue_cone_top   \n4012  scene08   000330   teapot  teapot-white_blue_cone_top   \n4014  scene08   000331   teapot  teapot-white_blue_cone_top   \n4016  scene08   000332   teapot  teapot-white_blue_cone_top   \n\n                                            pred_tensor  \\\n7     [[-0.3194832853085825, -0.6606082665069111, -0...   \n10    [[0.36102812933682893, -0.8532308991022843, 0....   \n14    [[0.37733964407487447, 0.8339400571972894, -0....   \n18    [[-0.27915600215831765, 0.8046250922811868, 0....   \n24    [[0.21285918418444458, 0.7238071329571893, 0.6...   \n...                                                 ...   \n4004  [[-0.38866519061153393, -0.3084369134766335, -...   \n4008  [[-0.9253829968212883, 0.36873945331756064, 0....   \n4012  [[-0.6850016704879969, 0.708357403175112, 0.17...   \n4014  [[0.27414513921660555, -0.7848264890392297, -0...   \n4016  [[0.4110642102337596, -0.7269092255428845, -0....   \n\n                                 cos_theta  euclid_error  cos_theta_unpacked  \n7     tensor(-0.8314, dtype=torch.float64)      0.149235           -0.831425  \n10    tensor(-0.0761, dtype=torch.float64)      0.117196           -0.076149  \n14    tensor(-0.3215, dtype=torch.float64)      0.092565           -0.321456  \n18    tensor(-0.8266, dtype=torch.float64)      0.116067           -0.826626  \n24    tensor(-0.9957, dtype=torch.float64)      0.149817           -0.995730  \n...                                    ...           ...                 ...  \n4004  tensor(-0.7867, dtype=torch.float64)      0.066931           -0.786655  \n4008  tensor(-0.9947, dtype=torch.float64)      0.139020           -0.994712  \n4012  tensor(-0.9482, dtype=torch.float64)      0.121180           -0.948155  \n4014  tensor(-0.9194, dtype=torch.float64)      0.131774           -0.919353  \n4016  tensor(-0.9560, dtype=torch.float64)      0.136715           -0.955973  \n\n[240 rows x 8 columns]",
      "text/html": "<div>\n<style scoped>\n    .dataframe tbody tr th:only-of-type {\n        vertical-align: middle;\n    }\n\n    .dataframe tbody tr th {\n        vertical-align: top;\n    }\n\n    .dataframe thead th {\n        text-align: right;\n    }\n</style>\n<table border=\"1\" class=\"dataframe\">\n  <thead>\n    <tr style=\"text-align: right;\">\n      <th></th>\n      <th>scene_nr</th>\n      <th>image_nr</th>\n      <th>type</th>\n      <th>obj_name</th>\n      <th>pred_tensor</th>\n      <th>cos_theta</th>\n      <th>euclid_error</th>\n      <th>cos_theta_unpacked</th>\n    </tr>\n  </thead>\n  <tbody>\n    <tr>\n      <th>7</th>\n      <td>scene02</td>\n      <td>000007</td>\n      <td>cutlery</td>\n      <td>cutlery-fork_1</td>\n      <td>[[-0.3194832853085825, -0.6606082665069111, -0...</td>\n      <td>tensor(-0.8314, dtype=torch.float64)</td>\n      <td>0.149235</td>\n      <td>-0.831425</td>\n    </tr>\n    <tr>\n      <th>10</th>\n      <td>scene02</td>\n      <td>000010</td>\n      <td>cutlery</td>\n      <td>cutlery-fork_1</td>\n      <td>[[0.36102812933682893, -0.8532308991022843, 0....</td>\n      <td>tensor(-0.0761, dtype=torch.float64)</td>\n      <td>0.117196</td>\n      <td>-0.076149</td>\n    </tr>\n    <tr>\n      <th>14</th>\n      <td>scene02</td>\n      <td>000014</td>\n      <td>cutlery</td>\n      <td>cutlery-fork_1</td>\n      <td>[[0.37733964407487447, 0.8339400571972894, -0....</td>\n      <td>tensor(-0.3215, dtype=torch.float64)</td>\n      <td>0.092565</td>\n      <td>-0.321456</td>\n    </tr>\n    <tr>\n      <th>18</th>\n      <td>scene02</td>\n      <td>000018</td>\n      <td>cutlery</td>\n      <td>cutlery-fork_1</td>\n      <td>[[-0.27915600215831765, 0.8046250922811868, 0....</td>\n      <td>tensor(-0.8266, dtype=torch.float64)</td>\n      <td>0.116067</td>\n      <td>-0.826626</td>\n    </tr>\n    <tr>\n      <th>24</th>\n      <td>scene02</td>\n      <td>000024</td>\n      <td>cutlery</td>\n      <td>cutlery-fork_1</td>\n      <td>[[0.21285918418444458, 0.7238071329571893, 0.6...</td>\n      <td>tensor(-0.9957, dtype=torch.float64)</td>\n      <td>0.149817</td>\n      <td>-0.995730</td>\n    </tr>\n    <tr>\n      <th>...</th>\n      <td>...</td>\n      <td>...</td>\n      <td>...</td>\n      <td>...</td>\n      <td>...</td>\n      <td>...</td>\n      <td>...</td>\n      <td>...</td>\n    </tr>\n    <tr>\n      <th>4004</th>\n      <td>scene08</td>\n      <td>000326</td>\n      <td>teapot</td>\n      <td>teapot-white_blue_cone_top</td>\n      <td>[[-0.38866519061153393, -0.3084369134766335, -...</td>\n      <td>tensor(-0.7867, dtype=torch.float64)</td>\n      <td>0.066931</td>\n      <td>-0.786655</td>\n    </tr>\n    <tr>\n      <th>4008</th>\n      <td>scene08</td>\n      <td>000328</td>\n      <td>teapot</td>\n      <td>teapot-white_blue_cone_top</td>\n      <td>[[-0.9253829968212883, 0.36873945331756064, 0....</td>\n      <td>tensor(-0.9947, dtype=torch.float64)</td>\n      <td>0.139020</td>\n      <td>-0.994712</td>\n    </tr>\n    <tr>\n      <th>4012</th>\n      <td>scene08</td>\n      <td>000330</td>\n      <td>teapot</td>\n      <td>teapot-white_blue_cone_top</td>\n      <td>[[-0.6850016704879969, 0.708357403175112, 0.17...</td>\n      <td>tensor(-0.9482, dtype=torch.float64)</td>\n      <td>0.121180</td>\n      <td>-0.948155</td>\n    </tr>\n    <tr>\n      <th>4014</th>\n      <td>scene08</td>\n      <td>000331</td>\n      <td>teapot</td>\n      <td>teapot-white_blue_cone_top</td>\n      <td>[[0.27414513921660555, -0.7848264890392297, -0...</td>\n      <td>tensor(-0.9194, dtype=torch.float64)</td>\n      <td>0.131774</td>\n      <td>-0.919353</td>\n    </tr>\n    <tr>\n      <th>4016</th>\n      <td>scene08</td>\n      <td>000332</td>\n      <td>teapot</td>\n      <td>teapot-white_blue_cone_top</td>\n      <td>[[0.4110642102337596, -0.7269092255428845, -0....</td>\n      <td>tensor(-0.9560, dtype=torch.float64)</td>\n      <td>0.136715</td>\n      <td>-0.955973</td>\n    </tr>\n  </tbody>\n</table>\n<p>240 rows × 8 columns</p>\n</div>"
     },
     "execution_count": 75,
     "metadata": {},
     "output_type": "execute_result"
    }
   ],
   "source": [
    "df[abs(df[\"euclid_error\"])<0.15]"
   ],
   "metadata": {
    "collapsed": false,
    "ExecuteTime": {
     "end_time": "2024-06-05T13:17:47.119766800Z",
     "start_time": "2024-06-05T13:17:47.088042200Z"
    }
   },
   "id": "979219ab2cdc1a54",
   "execution_count": 75
  },
  {
   "cell_type": "code",
   "outputs": [
    {
     "data": {
      "text/plain": "     scene_nr image_nr     type            obj_name  \\\n3     scene02   000003  cutlery      cutlery-fork_1   \n10    scene02   000010  cutlery      cutlery-fork_1   \n44    scene02   000044  cutlery      cutlery-fork_1   \n60    scene02   000060  cutlery      cutlery-fork_1   \n71    scene02   000071  cutlery      cutlery-fork_1   \n...       ...      ...      ...                 ...   \n5711  scene10   000295     shoe     shoe-frog_right   \n5713  scene10   000296     shoe     shoe-frog_right   \n5726  scene10   000302   teapot  teapot-green_grass   \n5743  scene10   000311     shoe     shoe-frog_right   \n5757  scene10   000318     shoe     shoe-frog_right   \n\n                                            pred_tensor  \\\n3     [[0.4303729053227241, -0.7329758449775929, 0.5...   \n10    [[0.36102812933682893, -0.8532308991022843, 0....   \n44    [[0.40045689349853125, -0.7906447426982155, 0....   \n60    [[0.3696814860307366, -0.6647258974530805, 0.6...   \n71    [[0.6861425352429991, 0.26648360486641254, 0.6...   \n...                                                 ...   \n5711  [[-0.4099057267308488, -0.7998794680709078, -0...   \n5713  [[-0.4442879418671795, -0.793405382446113, -0....   \n5726  [[0.07523475474221197, 0.7075309857007064, -0....   \n5743  [[-0.5334831066206722, -0.7765240219509283, -0...   \n5757  [[-0.39929528976536877, -0.8936844281746473, -...   \n\n                                 cos_theta  euclid_error  cos_theta_unpacked  \n3      tensor(0.0410, dtype=torch.float64)      0.384134            0.041047  \n10    tensor(-0.0761, dtype=torch.float64)      0.117196           -0.076149  \n44    tensor(-0.0277, dtype=torch.float64)      0.319222           -0.027685  \n60     tensor(0.0972, dtype=torch.float64)      0.349279            0.097242  \n71    tensor(-0.0912, dtype=torch.float64)      0.193788           -0.091221  \n...                                    ...           ...                 ...  \n5711  tensor(-0.0563, dtype=torch.float64)      0.781217           -0.056327  \n5713  tensor(-0.0104, dtype=torch.float64)      0.786783           -0.010393  \n5726  tensor(-0.0457, dtype=torch.float64)      0.768050           -0.045702  \n5743   tensor(0.0115, dtype=torch.float64)      0.829397            0.011452  \n5757   tensor(0.0369, dtype=torch.float64)      0.767693            0.036938  \n\n[483 rows x 8 columns]",
      "text/html": "<div>\n<style scoped>\n    .dataframe tbody tr th:only-of-type {\n        vertical-align: middle;\n    }\n\n    .dataframe tbody tr th {\n        vertical-align: top;\n    }\n\n    .dataframe thead th {\n        text-align: right;\n    }\n</style>\n<table border=\"1\" class=\"dataframe\">\n  <thead>\n    <tr style=\"text-align: right;\">\n      <th></th>\n      <th>scene_nr</th>\n      <th>image_nr</th>\n      <th>type</th>\n      <th>obj_name</th>\n      <th>pred_tensor</th>\n      <th>cos_theta</th>\n      <th>euclid_error</th>\n      <th>cos_theta_unpacked</th>\n    </tr>\n  </thead>\n  <tbody>\n    <tr>\n      <th>3</th>\n      <td>scene02</td>\n      <td>000003</td>\n      <td>cutlery</td>\n      <td>cutlery-fork_1</td>\n      <td>[[0.4303729053227241, -0.7329758449775929, 0.5...</td>\n      <td>tensor(0.0410, dtype=torch.float64)</td>\n      <td>0.384134</td>\n      <td>0.041047</td>\n    </tr>\n    <tr>\n      <th>10</th>\n      <td>scene02</td>\n      <td>000010</td>\n      <td>cutlery</td>\n      <td>cutlery-fork_1</td>\n      <td>[[0.36102812933682893, -0.8532308991022843, 0....</td>\n      <td>tensor(-0.0761, dtype=torch.float64)</td>\n      <td>0.117196</td>\n      <td>-0.076149</td>\n    </tr>\n    <tr>\n      <th>44</th>\n      <td>scene02</td>\n      <td>000044</td>\n      <td>cutlery</td>\n      <td>cutlery-fork_1</td>\n      <td>[[0.40045689349853125, -0.7906447426982155, 0....</td>\n      <td>tensor(-0.0277, dtype=torch.float64)</td>\n      <td>0.319222</td>\n      <td>-0.027685</td>\n    </tr>\n    <tr>\n      <th>60</th>\n      <td>scene02</td>\n      <td>000060</td>\n      <td>cutlery</td>\n      <td>cutlery-fork_1</td>\n      <td>[[0.3696814860307366, -0.6647258974530805, 0.6...</td>\n      <td>tensor(0.0972, dtype=torch.float64)</td>\n      <td>0.349279</td>\n      <td>0.097242</td>\n    </tr>\n    <tr>\n      <th>71</th>\n      <td>scene02</td>\n      <td>000071</td>\n      <td>cutlery</td>\n      <td>cutlery-fork_1</td>\n      <td>[[0.6861425352429991, 0.26648360486641254, 0.6...</td>\n      <td>tensor(-0.0912, dtype=torch.float64)</td>\n      <td>0.193788</td>\n      <td>-0.091221</td>\n    </tr>\n    <tr>\n      <th>...</th>\n      <td>...</td>\n      <td>...</td>\n      <td>...</td>\n      <td>...</td>\n      <td>...</td>\n      <td>...</td>\n      <td>...</td>\n      <td>...</td>\n    </tr>\n    <tr>\n      <th>5711</th>\n      <td>scene10</td>\n      <td>000295</td>\n      <td>shoe</td>\n      <td>shoe-frog_right</td>\n      <td>[[-0.4099057267308488, -0.7998794680709078, -0...</td>\n      <td>tensor(-0.0563, dtype=torch.float64)</td>\n      <td>0.781217</td>\n      <td>-0.056327</td>\n    </tr>\n    <tr>\n      <th>5713</th>\n      <td>scene10</td>\n      <td>000296</td>\n      <td>shoe</td>\n      <td>shoe-frog_right</td>\n      <td>[[-0.4442879418671795, -0.793405382446113, -0....</td>\n      <td>tensor(-0.0104, dtype=torch.float64)</td>\n      <td>0.786783</td>\n      <td>-0.010393</td>\n    </tr>\n    <tr>\n      <th>5726</th>\n      <td>scene10</td>\n      <td>000302</td>\n      <td>teapot</td>\n      <td>teapot-green_grass</td>\n      <td>[[0.07523475474221197, 0.7075309857007064, -0....</td>\n      <td>tensor(-0.0457, dtype=torch.float64)</td>\n      <td>0.768050</td>\n      <td>-0.045702</td>\n    </tr>\n    <tr>\n      <th>5743</th>\n      <td>scene10</td>\n      <td>000311</td>\n      <td>shoe</td>\n      <td>shoe-frog_right</td>\n      <td>[[-0.5334831066206722, -0.7765240219509283, -0...</td>\n      <td>tensor(0.0115, dtype=torch.float64)</td>\n      <td>0.829397</td>\n      <td>0.011452</td>\n    </tr>\n    <tr>\n      <th>5757</th>\n      <td>scene10</td>\n      <td>000318</td>\n      <td>shoe</td>\n      <td>shoe-frog_right</td>\n      <td>[[-0.39929528976536877, -0.8936844281746473, -...</td>\n      <td>tensor(0.0369, dtype=torch.float64)</td>\n      <td>0.767693</td>\n      <td>0.036938</td>\n    </tr>\n  </tbody>\n</table>\n<p>483 rows × 8 columns</p>\n</div>"
     },
     "execution_count": 77,
     "metadata": {},
     "output_type": "execute_result"
    }
   ],
   "source": [
    "df[abs(df[\"cos_theta_unpacked\"]) < 0.1]"
   ],
   "metadata": {
    "collapsed": false,
    "ExecuteTime": {
     "end_time": "2024-06-05T13:19:04.930810600Z",
     "start_time": "2024-06-05T13:19:04.901343100Z"
    }
   },
   "id": "2a9dc37f38484995",
   "execution_count": 77
  }
 ],
 "metadata": {
  "kernelspec": {
   "display_name": "Python 3",
   "language": "python",
   "name": "python3"
  },
  "language_info": {
   "codemirror_mode": {
    "name": "ipython",
    "version": 2
   },
   "file_extension": ".py",
   "mimetype": "text/x-python",
   "name": "python",
   "nbconvert_exporter": "python",
   "pygments_lexer": "ipython2",
   "version": "2.7.6"
  }
 },
 "nbformat": 4,
 "nbformat_minor": 5
}
